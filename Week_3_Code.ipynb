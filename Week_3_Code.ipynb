{
 "cells": [
  {
   "cell_type": "code",
   "execution_count": 15,
   "id": "97f915c8",
   "metadata": {},
   "outputs": [
    {
     "name": "stdout",
     "output_type": "stream",
     "text": [
      "Day  Miles\n",
      "0    55\n",
      "1    65\n",
      "2    30\n",
      "3    30\n",
      "4    20\n",
      "5    30\n",
      "6    70\n",
      "dtype: int32\n"
     ]
    }
   ],
   "source": [
    "# importing pandas and numpy\n",
    "\n",
    "import pandas as p\n",
    "import numpy as n\n",
    "\n",
    "#array to hold cumulative miles\n",
    "\n",
    "cumu_miles = n.array([55,120,150,180,200,230,300])\n",
    "\n",
    "#converting the miles into panda series\n",
    "\n",
    "panda_series = p.Series(cumu_miles)\n",
    "\n",
    "\n",
    "#array to hold miles from each day\n",
    "\n",
    "per_day = n.array([panda_series[0]])\n",
    "\n",
    "# getting the miles for a day.\n",
    "for i in range(1, len(panda_series)):\n",
    "        per_day = n.append(per_day, panda_series[i] - panda_series[i - 1])\n",
    "        \n",
    "print(\"Day  Miles\")\n",
    "\n",
    "print(p.Series(per_day))"
   ]
  },
  {
   "cell_type": "code",
   "execution_count": null,
   "id": "cf17c537",
   "metadata": {},
   "outputs": [],
   "source": []
  },
  {
   "cell_type": "code",
   "execution_count": null,
   "id": "5237eb3c",
   "metadata": {},
   "outputs": [],
   "source": []
  },
  {
   "cell_type": "code",
   "execution_count": null,
   "id": "013254c2",
   "metadata": {},
   "outputs": [],
   "source": []
  },
  {
   "cell_type": "code",
   "execution_count": null,
   "id": "308560d3",
   "metadata": {},
   "outputs": [],
   "source": []
  }
 ],
 "metadata": {
  "kernelspec": {
   "display_name": "Python 3 (ipykernel)",
   "language": "python",
   "name": "python3"
  },
  "language_info": {
   "codemirror_mode": {
    "name": "ipython",
    "version": 3
   },
   "file_extension": ".py",
   "mimetype": "text/x-python",
   "name": "python",
   "nbconvert_exporter": "python",
   "pygments_lexer": "ipython3",
   "version": "3.8.12"
  }
 },
 "nbformat": 4,
 "nbformat_minor": 5
}
